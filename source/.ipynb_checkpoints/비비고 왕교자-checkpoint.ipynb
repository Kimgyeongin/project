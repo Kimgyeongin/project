{
 "cells": [
  {
   "cell_type": "code",
   "execution_count": 1,
   "metadata": {
    "collapsed": true
   },
   "outputs": [],
   "source": [
    "import pandas as pd\n",
    "import re\n",
    "import numpy as np"
   ]
  },
  {
   "cell_type": "code",
   "execution_count": 4,
   "metadata": {},
   "outputs": [],
   "source": [
    "df=pd.read_csv(\"본문왕교자.csv\")\n",
    "df1=pd.read_csv('해시태그왕교자.csv')\n",
    "df2=pd.read_csv('댓글왕교자.csv')"
   ]
  },
  {
   "cell_type": "code",
   "execution_count": 11,
   "metadata": {},
   "outputs": [],
   "source": [
    "main=df[\"본문\"]\n",
    "hashtag=df1[\"해시태그\"]\n",
    "chat=df2[\"댓글\"]\n",
    "alldata=pd.concat([main, hashtag, chat])"
   ]
  },
  {
   "cell_type": "code",
   "execution_count": 22,
   "metadata": {},
   "outputs": [
    {
     "data": {
      "text/plain": [
       "'0                                                     NaN\\n1                   이쁘고 비싼집사주면뭐하나코스트코에서 물건담아온 만두박스만좋아하는데🐱\\n2                              미나리 , 청양 팍팍 넣고 떡만두매운탕 🍲🍲**\\n3                                                     NaN\\n4                                                     NaN\\n5                                                     NaN\\n6                                                     NaN\\n7                                --토요일부터 나 없이 고생할 떠히를 위해 \\n8                               직접 만들었다 누가? 내가 하하하오늘은 내가 \\n9                                               .즐거운 저녁? \\n10      비비고왕교자, 네모 군만두밥먹긴 뭐하고 배는 허전하고...😫만두나 굽자해서 버터어 ...\\n11                                                    NaN\\n12                                     꿀비가 해주는 오늘의 야식 \\U0001f95f🍽 \\n13                                                    NaN\\n14                  불토~비비고 만두 다 태웠다.😭힝ㅋ 집에 있는것도 서러운데..😫..\\n15      자정이 넘은 시각에 고구마x김치 콜라보로 슬슬 시동을 걸더니 비비고 왕교자까지 야무...\\n16      ...비오는날 캠핑대신~은지가 협찬해준 겁나 매운 쭈꾸미찡오반장 jmt막창 에프에 ...\\n17                                  •새로운 라면은 아묻따 접수하고 보는 \\n18                                             육회 파티 🎉...\\n19                                                   육퇴후😊\\n20      토요일 2탄 점심은 선물받은 분식 그릇에 골뱅이 비빔면~ 맛있다 이쁘다 너무 좋다 ...\\n21                                                    NaN\\n22                                          🏡🎶🏡🎶 ㅡㅡㅡ사진2장.\\n23                                                    NaN\\n24      .....후라이팬이 고장나면 이사단이난다역시일요일은 짜파게티.. 도 냄비문제가 있을...\\n25                                              야식아니고 저녁밥\\n26                                                    NaN\\n27                                                    NaN\\n28      집에서 아무것도 안하고 쉬려다 갑자기 교자가 너무 땡겼어... 귀찮다고 레인지에 돌...\\n29                                                      -\\n                              ...                        \\n4761                                        즐거운 주말 되세요! 😆\\n4762                                               ✌✌✨✨✨✨\\n4763                                  행복한 하루 보내세요 ~ ! ^ ^\\n4764                               오. . . . . 이걸집에서. . 👏👏\\n4765                                  오우 역시 언니대단 황금손ㅋㅋㅋ🙊👍\\n4766                                                   😍❤\\n4767    여성 데일리룩 전문 showroom 입니다. 신상품 계속해서 업뎃되고있어요. 구경한...\\n4768                                            예쁜 하루되세요!\\n4769                              우연히 사진이 예뻐서 보고 댓글 달고 가요\\n4770                                            또 놀러오겠습니다\\n4771    #부산 #신혼부부그램 #럽스타그램 #맥주 #저녁먹구한잔 #에어프라이어 #황태채 #비...\\n4772                                              만두 오졌다.\\n4773                        와...제대로 해먹네!! 에어프라이어 없으면안됨..💛\\n4774                                         먹태 완죤 맛나지~~ㅋ\\n4775                                               헉 재밋겟당\\n4776                         최소연 WWW. UPARSEGUIDORES .COM\\n4777                                       와씨 나도 가고싶다 ㅋㅋㅋ\\n4778                                     만두 구워진거 맞나여?ㅋㅋㅋㅋ\\n4779                                             깨오🍭 🤸\\u200d♀️\\n4780                         애키운다고 계절가는거 모르는 1인 추가입니데이😭😭😭\\n4781                               잉 저두요 밖이더운지 추운지 ㅋㅋㅋ몰라유\\n4782               맛있겠어요.🤤 전 어제 쫄면에 만두 먹었는데 다음에 비빔면 먹어야죵😍\\n4783    저도 요즘 계절감각이 없네요. 어제 쌀쌀하길래 오늘 잠바입혀보냈는데 엄청 더웠을듯해...\\n4784                                       전아들만 둘이에요 소통해요\\n4785                                           오메 맛있겠오용😍💕\\n4786                                   다음엔 함께 카트를 끌어봅시다♥️\\n4787                                                소통해요\\U0001f962\\n4788                                       이야👍 좋은 남푠이세용❤️\\n4789                                  와 맨날 맛있는거 먹어 놀러가고싶다\\n4790                                       사진 진짜 예쁘네요~ ㅎㅎ\\nLength: 8019, dtype: object'"
      ]
     },
     "execution_count": 22,
     "metadata": {},
     "output_type": "execute_result"
    }
   ],
   "source": [
    "str(alldata)"
   ]
  },
  {
   "cell_type": "code",
   "execution_count": 13,
   "metadata": {
    "collapsed": true
   },
   "outputs": [],
   "source": [
    "from konlpy.corpus import kolaw"
   ]
  },
  {
   "cell_type": "code",
   "execution_count": 14,
   "metadata": {
    "collapsed": true
   },
   "outputs": [],
   "source": [
    "from konlpy.tag import *\n",
    "hannanum=Hannanum()\n",
    "kkma=Kkma()\n",
    "komoran=Komoran()\n",
    "okt=Okt()"
   ]
  },
  {
   "cell_type": "code",
   "execution_count": 15,
   "metadata": {
    "collapsed": true
   },
   "outputs": [],
   "source": [
    "from konlpy.tag import Twitter\n",
    "from collections import Counter"
   ]
  },
  {
   "cell_type": "code",
   "execution_count": 16,
   "metadata": {},
   "outputs": [
    {
     "name": "stderr",
     "output_type": "stream",
     "text": [
      "C:\\Users\\OliviaKim\\Anaconda3\\lib\\site-packages\\konlpy\\tag\\_okt.py:16: UserWarning: \"Twitter\" has changed to \"Okt\" since KoNLPy v0.4.5.\n",
      "  warn('\"Twitter\" has changed to \"Okt\" since KoNLPy v0.4.5.')\n"
     ]
    }
   ],
   "source": [
    "twitter = Twitter()"
   ]
  },
  {
   "cell_type": "code",
   "execution_count": 19,
   "metadata": {},
   "outputs": [
    {
     "ename": "RuntimeError",
     "evalue": "No matching overloads found for tokenize in find. at native\\common\\jp_method.cpp:127",
     "output_type": "error",
     "traceback": [
      "\u001b[1;31m---------------------------------------------------------------------------\u001b[0m",
      "\u001b[1;31mRuntimeError\u001b[0m                              Traceback (most recent call last)",
      "\u001b[1;32m<ipython-input-19-de767787cb5f>\u001b[0m in \u001b[0;36m<module>\u001b[1;34m()\u001b[0m\n\u001b[1;32m----> 1\u001b[1;33m \u001b[0mtwitter\u001b[0m\u001b[1;33m.\u001b[0m\u001b[0mnouns\u001b[0m\u001b[1;33m(\u001b[0m\u001b[0malldata\u001b[0m\u001b[1;33m)\u001b[0m\u001b[1;33m\u001b[0m\u001b[0m\n\u001b[0m",
      "\u001b[1;32m~\\Anaconda3\\lib\\site-packages\\konlpy\\tag\\_okt.py\u001b[0m in \u001b[0;36mnouns\u001b[1;34m(self, phrase)\u001b[0m\n\u001b[0;32m     70\u001b[0m         \u001b[1;34m\"\"\"Noun extractor.\"\"\"\u001b[0m\u001b[1;33m\u001b[0m\u001b[0m\n\u001b[0;32m     71\u001b[0m \u001b[1;33m\u001b[0m\u001b[0m\n\u001b[1;32m---> 72\u001b[1;33m         \u001b[0mtagged\u001b[0m \u001b[1;33m=\u001b[0m \u001b[0mself\u001b[0m\u001b[1;33m.\u001b[0m\u001b[0mpos\u001b[0m\u001b[1;33m(\u001b[0m\u001b[0mphrase\u001b[0m\u001b[1;33m)\u001b[0m\u001b[1;33m\u001b[0m\u001b[0m\n\u001b[0m\u001b[0;32m     73\u001b[0m         \u001b[1;32mreturn\u001b[0m \u001b[1;33m[\u001b[0m\u001b[0ms\u001b[0m \u001b[1;32mfor\u001b[0m \u001b[0ms\u001b[0m\u001b[1;33m,\u001b[0m \u001b[0mt\u001b[0m \u001b[1;32min\u001b[0m \u001b[0mtagged\u001b[0m \u001b[1;32mif\u001b[0m \u001b[0mt\u001b[0m \u001b[1;33m==\u001b[0m \u001b[1;34m'Noun'\u001b[0m\u001b[1;33m]\u001b[0m\u001b[1;33m\u001b[0m\u001b[0m\n\u001b[0;32m     74\u001b[0m \u001b[1;33m\u001b[0m\u001b[0m\n",
      "\u001b[1;32m~\\Anaconda3\\lib\\site-packages\\konlpy\\tag\\_okt.py\u001b[0m in \u001b[0;36mpos\u001b[1;34m(self, phrase, norm, stem, join)\u001b[0m\n\u001b[0;32m     61\u001b[0m                     \u001b[0mphrase\u001b[0m\u001b[1;33m,\u001b[0m\u001b[1;33m\u001b[0m\u001b[0m\n\u001b[0;32m     62\u001b[0m                     \u001b[0mjpype\u001b[0m\u001b[1;33m.\u001b[0m\u001b[0mjava\u001b[0m\u001b[1;33m.\u001b[0m\u001b[0mlang\u001b[0m\u001b[1;33m.\u001b[0m\u001b[0mBoolean\u001b[0m\u001b[1;33m(\u001b[0m\u001b[0mnorm\u001b[0m\u001b[1;33m)\u001b[0m\u001b[1;33m,\u001b[0m\u001b[1;33m\u001b[0m\u001b[0m\n\u001b[1;32m---> 63\u001b[1;33m                     jpype.java.lang.Boolean(stem)).toArray()\n\u001b[0m\u001b[0;32m     64\u001b[0m         \u001b[1;32mif\u001b[0m \u001b[0mjoin\u001b[0m\u001b[1;33m:\u001b[0m\u001b[1;33m\u001b[0m\u001b[0m\n\u001b[0;32m     65\u001b[0m             \u001b[1;32mreturn\u001b[0m \u001b[1;33m[\u001b[0m\u001b[0mt\u001b[0m \u001b[1;32mfor\u001b[0m \u001b[0mt\u001b[0m \u001b[1;32min\u001b[0m \u001b[0mtokens\u001b[0m\u001b[1;33m]\u001b[0m\u001b[1;33m\u001b[0m\u001b[0m\n",
      "\u001b[1;31mRuntimeError\u001b[0m: No matching overloads found for tokenize in find. at native\\common\\jp_method.cpp:127"
     ]
    }
   ],
   "source": [
    "twitter.nouns"
   ]
  },
  {
   "cell_type": "code",
   "execution_count": 21,
   "metadata": {},
   "outputs": [
    {
     "ename": "SyntaxError",
     "evalue": "unexpected EOF while parsing (<ipython-input-21-6484cb1c9473>, line 1)",
     "output_type": "error",
     "traceback": [
      "\u001b[1;36m  File \u001b[1;32m\"<ipython-input-21-6484cb1c9473>\"\u001b[1;36m, line \u001b[1;32m1\u001b[0m\n\u001b[1;33m    nouns = okt.nouns(str(alldata)\u001b[0m\n\u001b[1;37m                                  ^\u001b[0m\n\u001b[1;31mSyntaxError\u001b[0m\u001b[1;31m:\u001b[0m unexpected EOF while parsing\n"
     ]
    }
   ],
   "source": [
    "nouns = okt.nouns(str(alldata)"
   ]
  },
  {
   "cell_type": "code",
   "execution_count": 23,
   "metadata": {
    "collapsed": true
   },
   "outputs": [],
   "source": [
    "def strip_e(st):\n",
    "    RE_EMOJI = re.compile('[\\U00010000-\\U0010ffff]', flags=re.UNICODE)\n",
    "    return RE_EMOJI.sub(r'', st)"
   ]
  },
  {
   "cell_type": "code",
   "execution_count": null,
   "metadata": {
    "collapsed": true
   },
   "outputs": [],
   "source": []
  }
 ],
 "metadata": {
  "kernelspec": {
   "display_name": "Python 3",
   "language": "python",
   "name": "python3"
  },
  "language_info": {
   "codemirror_mode": {
    "name": "ipython",
    "version": 3
   },
   "file_extension": ".py",
   "mimetype": "text/x-python",
   "name": "python",
   "nbconvert_exporter": "python",
   "pygments_lexer": "ipython3",
   "version": "3.6.2"
  }
 },
 "nbformat": 4,
 "nbformat_minor": 2
}

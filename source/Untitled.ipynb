{
 "cells": [
  {
   "cell_type": "code",
   "execution_count": 30,
   "metadata": {
    "collapsed": true
   },
   "outputs": [],
   "source": [
    "import time\n",
    "import pandas as pd\n",
    "from selenium import webdriver\n",
    "from selenium.webdriver.common.action_chains import ActionChains\n",
    "from bs4 import BeautifulSoup\n",
    "import numpy as np\n",
    "import matplotlib.pyplot as plt\n",
    "import platform\n",
    "%matplotlib inline\n",
    "from time import sleep\n",
    "from matplotlib import font_manager, rc\n",
    "plt.rcParams['axes.unicode_minus'] = False\n",
    "\n",
    "if platform.system() == 'Darwin':\n",
    "   rc('font', family='AppleGothic')\n",
    "elif platform.system() == 'Windows'    :\n",
    "   path = \"c:/Windows/Fonts/malgun.ttf\"\n",
    "   font_name = font_manager.FontProperties(fname=path).get_name()\n",
    "   rc('font', family=font_name)\n",
    "else:\n",
    "   print('Unknown system')\n",
    "\n",
    "plt.rcParams['axes.unicode_minus'] = False\n"
   ]
  },
  {
   "cell_type": "code",
   "execution_count": 34,
   "metadata": {
    "collapsed": true
   },
   "outputs": [],
   "source": [
    "import re"
   ]
  },
  {
   "cell_type": "code",
   "execution_count": 86,
   "metadata": {
    "collapsed": true
   },
   "outputs": [],
   "source": [
    "driver= webdriver.Chrome('../data/chromedriver')\n",
    "driver.maximize_window() #For maximizing window\n",
    "driver.implicitly_wait(20) #gives an implicit wait for 20 seconds\n",
    "driver.get('https://www.instagram.com')  #사이트주소 "
   ]
  },
  {
   "cell_type": "code",
   "execution_count": 87,
   "metadata": {},
   "outputs": [],
   "source": [
    "#로그인하기\n",
    "\n",
    "login=driver.find_element_by_xpath('//*[@id=\"react-root\"]/section/main/article/div[2]/div[2]/p/a')\n",
    "login.click()\n",
    "\n",
    "sleep(2)\n"
   ]
  },
  {
   "cell_type": "code",
   "execution_count": 88,
   "metadata": {},
   "outputs": [],
   "source": [
    "#로그인 데이터 입력하기\n",
    "driver.find_elements_by_name(\"username\")[0].send_keys(\"01040924744\")\n",
    "driver.find_elements_by_name(\"password\")[0].send_keys(\"lamin4092.\")\n"
   ]
  },
  {
   "cell_type": "code",
   "execution_count": 90,
   "metadata": {},
   "outputs": [
    {
     "ename": "AttributeError",
     "evalue": "'NoneType' object has no attribute 'click'",
     "output_type": "error",
     "traceback": [
      "\u001b[1;31m---------------------------------------------------------------------------\u001b[0m",
      "\u001b[1;31mAttributeError\u001b[0m                            Traceback (most recent call last)",
      "\u001b[1;32m<ipython-input-90-0a1ea124735d>\u001b[0m in \u001b[0;36m<module>\u001b[1;34m()\u001b[0m\n\u001b[0;32m      1\u001b[0m \u001b[1;31m#로그인 버튼 누르기\u001b[0m\u001b[1;33m\u001b[0m\u001b[1;33m\u001b[0m\u001b[0m\n\u001b[0;32m      2\u001b[0m \u001b[0mlogin_button\u001b[0m\u001b[1;33m=\u001b[0m\u001b[0mdriver\u001b[0m\u001b[1;33m.\u001b[0m\u001b[0mfind_element_by_xpath\u001b[0m\u001b[1;33m(\u001b[0m\u001b[1;34m'//*[@id=\"react-root\"]/section/main/div/article/div/div[1]/div/form/div[5]/button/div'\u001b[0m\u001b[1;33m)\u001b[0m\u001b[1;33m\u001b[0m\u001b[0m\n\u001b[1;32m----> 3\u001b[1;33m \u001b[0mlogin_button\u001b[0m\u001b[1;33m.\u001b[0m\u001b[0mclick\u001b[0m\u001b[1;33m(\u001b[0m\u001b[1;33m)\u001b[0m\u001b[1;33m\u001b[0m\u001b[0m\n\u001b[0m",
      "\u001b[1;31mAttributeError\u001b[0m: 'NoneType' object has no attribute 'click'"
     ]
    }
   ],
   "source": [
    "#로그인 버튼 누르기\n",
    "login_button=driver.find_element_by_xpath('//*[@id=\"react-root\"]/section/main/div/article/div/div[1]/div/form/div[5]/button/div')\n",
    "login_button.click()"
   ]
  },
  {
   "cell_type": "code",
   "execution_count": null,
   "metadata": {
    "scrolled": true
   },
   "outputs": [],
   "source": [
    "search=driver.find_element_by_xpath('//*[@id=\"react-root\"]/section/nav/div[2]/div/div/div[2]/input')\n",
    "search.click()\n",
    "ActionChains(driver).move_to_element(search).click().send_keys('양념치킨').perform()"
   ]
  },
  {
   "cell_type": "code",
   "execution_count": 33,
   "metadata": {},
   "outputs": [],
   "source": [
    "#검색된 것의 첫번째 거를 가져오기\n",
    "name = driver.find_element_by_xpath('//*[@id=\"react-root\"]/section/nav/div[2]/div/div/div[2]/div[2]/div[2]/div/a[1]/div')\n",
    "\n",
    "ActionChains(driver).move_to_element(name).click().perform()\n"
   ]
  },
  {
   "cell_type": "code",
   "execution_count": 64,
   "metadata": {
    "collapsed": true
   },
   "outputs": [],
   "source": [
    "driver.back()"
   ]
  },
  {
   "cell_type": "code",
   "execution_count": null,
   "metadata": {
    "collapsed": true
   },
   "outputs": [],
   "source": [
    "driver= webdriver.Chrome('../data/chromedriver')\n",
    "\n",
    "driver.get('https://www.instagram.com/explore/tags/%EB%B9%84%EB%B9%84%EA%B3%A0%EB%A7%8C%EB%91%90/')  #사이트주소 \n",
    "\n",
    "time.sleep(5)\n",
    "xpath_s1 = \"\"\"//*[@id=\"react-root\"]/section/main/article/div[1]/div/div/div[1]/div[1]\"\"\"\n",
    "set1 = driver.find_element_by_xpath(xpath_s1).click()\n",
    "\n",
    "time.sleep(2)\n",
    "\n",
    "box1 = []\n",
    "box2 = [] \n",
    "box3 = []\n",
    "\n",
    "\n",
    "for n in range(1,5000):\n",
    "    page1 = driver.page_source\n",
    "    soup1 = BeautifulSoup(page1)\n",
    "    a = soup1.find_all('div','C4VMK')\n",
    "    a1 = soup1.find_all('div','C4VMK')[0]\n",
    "    a1 = a1.find_all('span')[0].text\n",
    "    b1 = re.split('#',a1)[0]\n",
    "    b2 = re.split('#',a1)[1:]\n",
    "    box1.append(b1)\n",
    "    box2.append(b2)\n",
    "    for i in range(1,len(a)):\n",
    "        a2 = soup1.find_all('div','C4VMK')[i]\n",
    "        a2 = a2.find_all('span')[0].text\n",
    "        box3.append(a2)\n",
    "    try:\n",
    "        xpath_s1 = \"\"\"/html/body/div[4]/div[1]/div/div/a[2]\"\"\"\n",
    "        set1 = driver.find_element_by_xpath(xpath_s1).click()\n",
    "        time.sleep(2)\n",
    "    except:\n",
    "        xpath_s1 = \"\"\"/html/body/div[4]/div[1]/div/div/a\"\"\"\n",
    "        set1 = driver.find_element_by_xpath(xpath_s1).click()\n",
    "        time.sleep(2)\n",
    "   \n",
    "\n",
    "    print(n)"
   ]
  },
  {
   "cell_type": "code",
   "execution_count": null,
   "metadata": {
    "collapsed": true
   },
   "outputs": [],
   "source": []
  }
 ],
 "metadata": {
  "kernelspec": {
   "display_name": "Python 3",
   "language": "python",
   "name": "python3"
  },
  "language_info": {
   "codemirror_mode": {
    "name": "ipython",
    "version": 3
   },
   "file_extension": ".py",
   "mimetype": "text/x-python",
   "name": "python",
   "nbconvert_exporter": "python",
   "pygments_lexer": "ipython3",
   "version": "3.6.2"
  }
 },
 "nbformat": 4,
 "nbformat_minor": 2
}
